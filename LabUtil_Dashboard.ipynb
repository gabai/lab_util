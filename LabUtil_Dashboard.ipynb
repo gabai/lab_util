{
 "cells": [
  {
   "cell_type": "markdown",
   "metadata": {},
   "source": [
    "# Overview of Outpatient Laboratory Data - ECMC"
   ]
  },
  {
   "cell_type": "code",
   "execution_count": 1,
   "metadata": {},
   "outputs": [],
   "source": [
    "import pandas as pd\n",
    "from bqplot import pyplot as plt\n",
    "import numpy as np\n",
    "import datetime\n",
    "import plotly.express as px"
   ]
  },
  {
   "cell_type": "code",
   "execution_count": 2,
   "metadata": {},
   "outputs": [],
   "source": [
    "# Data Directories\n",
    "INPUT = \"../Data/Input/\"\n",
    "OUTPUT = \"../Data/Output/\""
   ]
  },
  {
   "cell_type": "code",
   "execution_count": 3,
   "metadata": {},
   "outputs": [
    {
     "data": {
      "text/html": [
       "<div>\n",
       "<style scoped>\n",
       "    .dataframe tbody tr th:only-of-type {\n",
       "        vertical-align: middle;\n",
       "    }\n",
       "\n",
       "    .dataframe tbody tr th {\n",
       "        vertical-align: top;\n",
       "    }\n",
       "\n",
       "    .dataframe thead th {\n",
       "        text-align: right;\n",
       "    }\n",
       "</style>\n",
       "<table border=\"1\" class=\"dataframe\">\n",
       "  <thead>\n",
       "    <tr style=\"text-align: right;\">\n",
       "      <th></th>\n",
       "      <th>MRN</th>\n",
       "      <th>Location</th>\n",
       "      <th>Age</th>\n",
       "      <th>Test</th>\n",
       "      <th>Result</th>\n",
       "      <th>Date</th>\n",
       "      <th>Provider</th>\n",
       "      <th>Lab</th>\n",
       "      <th>Lab_Orders</th>\n",
       "      <th>datetime</th>\n",
       "      <th>Year</th>\n",
       "      <th>Month</th>\n",
       "      <th>Day</th>\n",
       "    </tr>\n",
       "  </thead>\n",
       "  <tbody>\n",
       "    <tr>\n",
       "      <th>0</th>\n",
       "      <td>M001271612</td>\n",
       "      <td>ECMC FAMILY HEALTH CENTER</td>\n",
       "      <td>47</td>\n",
       "      <td>HEMOGLOBIN A1C</td>\n",
       "      <td>6</td>\n",
       "      <td>1/23/2018 1:49</td>\n",
       "      <td>NADARAJAH,SHARON</td>\n",
       "      <td>HEMOGLOBIN A1C</td>\n",
       "      <td>1</td>\n",
       "      <td>2018-01-23 01:49:00</td>\n",
       "      <td>2018</td>\n",
       "      <td>1</td>\n",
       "      <td>23</td>\n",
       "    </tr>\n",
       "    <tr>\n",
       "      <th>1</th>\n",
       "      <td>M001133531</td>\n",
       "      <td>ECMC FAMILY HEALTH CENTER</td>\n",
       "      <td>27</td>\n",
       "      <td>HEMOGLOBIN A1C</td>\n",
       "      <td>5.6</td>\n",
       "      <td>2/22/2019 12:48</td>\n",
       "      <td>ABDELSAYED,SARAH</td>\n",
       "      <td>HEMOGLOBIN A1C</td>\n",
       "      <td>1</td>\n",
       "      <td>2019-02-22 12:48:00</td>\n",
       "      <td>2019</td>\n",
       "      <td>2</td>\n",
       "      <td>22</td>\n",
       "    </tr>\n",
       "    <tr>\n",
       "      <th>2</th>\n",
       "      <td>M001252802</td>\n",
       "      <td>ECMC FAMILY HEALTH CENTER</td>\n",
       "      <td>38</td>\n",
       "      <td>HEMOGLOBIN A1C</td>\n",
       "      <td>5.5</td>\n",
       "      <td>3/12/2019 18:58</td>\n",
       "      <td>TORRES,CARMEN</td>\n",
       "      <td>HEMOGLOBIN A1C</td>\n",
       "      <td>1</td>\n",
       "      <td>2019-03-12 18:58:00</td>\n",
       "      <td>2019</td>\n",
       "      <td>3</td>\n",
       "      <td>12</td>\n",
       "    </tr>\n",
       "    <tr>\n",
       "      <th>3</th>\n",
       "      <td>M001042302</td>\n",
       "      <td>ECMC FAMILY HEALTH CENTER</td>\n",
       "      <td>64</td>\n",
       "      <td>HEMOGLOBIN A1C</td>\n",
       "      <td>5.7</td>\n",
       "      <td>4/14/2018 1:10</td>\n",
       "      <td>DIAB,MICHAEL</td>\n",
       "      <td>HEMOGLOBIN A1C</td>\n",
       "      <td>1</td>\n",
       "      <td>2018-04-14 01:10:00</td>\n",
       "      <td>2018</td>\n",
       "      <td>4</td>\n",
       "      <td>14</td>\n",
       "    </tr>\n",
       "    <tr>\n",
       "      <th>4</th>\n",
       "      <td>M000370104</td>\n",
       "      <td>ECMC FAMILY HEALTH CENTER</td>\n",
       "      <td>46</td>\n",
       "      <td>HEMOGLOBIN A1C</td>\n",
       "      <td>5.7</td>\n",
       "      <td>6/22/2018 22:03</td>\n",
       "      <td>NADARAJAH,SHARON</td>\n",
       "      <td>HEMOGLOBIN A1C</td>\n",
       "      <td>1</td>\n",
       "      <td>2018-06-22 22:03:00</td>\n",
       "      <td>2018</td>\n",
       "      <td>6</td>\n",
       "      <td>22</td>\n",
       "    </tr>\n",
       "  </tbody>\n",
       "</table>\n",
       "</div>"
      ],
      "text/plain": [
       "          MRN                   Location  Age            Test Result  \\\n",
       "0  M001271612  ECMC FAMILY HEALTH CENTER   47  HEMOGLOBIN A1C      6   \n",
       "1  M001133531  ECMC FAMILY HEALTH CENTER   27  HEMOGLOBIN A1C    5.6   \n",
       "2  M001252802  ECMC FAMILY HEALTH CENTER   38  HEMOGLOBIN A1C    5.5   \n",
       "3  M001042302  ECMC FAMILY HEALTH CENTER   64  HEMOGLOBIN A1C    5.7   \n",
       "4  M000370104  ECMC FAMILY HEALTH CENTER   46  HEMOGLOBIN A1C    5.7   \n",
       "\n",
       "              Date          Provider             Lab  Lab_Orders  \\\n",
       "0   1/23/2018 1:49  NADARAJAH,SHARON  HEMOGLOBIN A1C           1   \n",
       "1  2/22/2019 12:48  ABDELSAYED,SARAH  HEMOGLOBIN A1C           1   \n",
       "2  3/12/2019 18:58     TORRES,CARMEN  HEMOGLOBIN A1C           1   \n",
       "3   4/14/2018 1:10      DIAB,MICHAEL  HEMOGLOBIN A1C           1   \n",
       "4  6/22/2018 22:03  NADARAJAH,SHARON  HEMOGLOBIN A1C           1   \n",
       "\n",
       "             datetime  Year  Month  Day  \n",
       "0 2018-01-23 01:49:00  2018      1   23  \n",
       "1 2019-02-22 12:48:00  2019      2   22  \n",
       "2 2019-03-12 18:58:00  2019      3   12  \n",
       "3 2018-04-14 01:10:00  2018      4   14  \n",
       "4 2018-06-22 22:03:00  2018      6   22  "
      ]
     },
     "execution_count": 3,
     "metadata": {},
     "output_type": "execute_result"
    }
   ],
   "source": [
    "# Load and modify data\n",
    "url = 'https://raw.githubusercontent.com/gabai/lab_util/master/lab_data.csv'\n",
    "#data = pd.read_csv(INPUT+\"lab_data.csv\")\n",
    "data = pd.read_csv(url)\n",
    "#data = data.drop(columns='Name')\n",
    "data['Lab'] = data['Test'].astype('category')\n",
    "data['Lab_Orders'] = 1\n",
    "# Date variables\n",
    "data['datetime'] = pd.to_datetime(data[\"Date\"])\n",
    "data['Year'] = pd.DatetimeIndex(data['Date']).year\n",
    "data['Month'] = pd.DatetimeIndex(data['Date']).month\n",
    "data['Day'] = pd.DatetimeIndex(data['Date']).day\n",
    "data.head()"
   ]
  },
  {
   "cell_type": "markdown",
   "metadata": {},
   "source": [
    "# General Descriptives"
   ]
  },
  {
   "cell_type": "code",
   "execution_count": null,
   "metadata": {},
   "outputs": [],
   "source": [
    "# Bar Plot\n",
    "df = data.groupby(['Lab']).sum().sort_values(by='Lab_Orders', ascending=False).reset_index()\n",
    "bar = px.bar(df, x='Lab', y='Lab_Orders')\n",
    "bar.show()"
   ]
  },
  {
   "cell_type": "code",
   "execution_count": null,
   "metadata": {},
   "outputs": [],
   "source": [
    "df = data.groupby(['Lab', 'Year']).sum().sort_values(by=['Year','Lab_Orders'], ascending=[True, False]).reset_index()\n",
    "bar = px.bar(df, x='Lab', y='Lab_Orders', color='Year')\n",
    "bar.show()"
   ]
  },
  {
   "cell_type": "code",
   "execution_count": null,
   "metadata": {},
   "outputs": [],
   "source": [
    "\n",
    "# Unique labs count\n",
    "print(\"There's\", data['Lab'].nunique(), \"unique labs.\\n\")\n",
    "\n",
    "# Average labs per visit/patient\n",
    "print(\"The average number of labs ordered per visit is:\", data.groupby(['MRN','Date'])['Lab'].count().mean(), \"\\n\")\n",
    "\n",
    "# Lab counts\n",
    "print('The top five labs ordered are:', '\\n', data['Lab'].value_counts().head(), \"\\n\")\n",
    "\n",
    "# Top ordering provider counts\n",
    "print('The top ordering providers are:', '\\n', data['Provider'].value_counts().head(), \"\\n\")\n",
    "\n",
    "# Mean age of patient by lab\n",
    "print('The average age of ordering each lab is:', '\\n', data.groupby('Lab')['Age'].mean().head())"
   ]
  },
  {
   "cell_type": "code",
   "execution_count": null,
   "metadata": {},
   "outputs": [],
   "source": []
  },
  {
   "cell_type": "code",
   "execution_count": null,
   "metadata": {},
   "outputs": [],
   "source": []
  },
  {
   "cell_type": "markdown",
   "metadata": {},
   "source": [
    "# Top Laboratory Orders"
   ]
  },
  {
   "cell_type": "code",
   "execution_count": null,
   "metadata": {},
   "outputs": [],
   "source": [
    "# Spliting top 10 to subset\n",
    "df = data.groupby(['Lab']).sum().sort_values(by='Lab_Orders', ascending=False).reset_index()\n",
    "df = df.iloc[pd.np.r_[0:10]]\n",
    "# List of top 10 labs\n",
    "top10 = df['Lab'].unique()"
   ]
  },
  {
   "cell_type": "code",
   "execution_count": null,
   "metadata": {},
   "outputs": [],
   "source": [
    "# Box plot of age by lab\n",
    "df = data[data['Lab'].isin(top10)]\n",
    "\n",
    "box = px.box(df, x=\"Lab\", y=\"Age\", title='Boxplot of Age for Top 10 Laboratory Orders')\n",
    "box.show()"
   ]
  },
  {
   "cell_type": "code",
   "execution_count": null,
   "metadata": {},
   "outputs": [],
   "source": [
    "# Line plot by year for top 10 labs\n",
    "df = data.groupby(['Lab', 'Year']).sum().sort_values(by=['Year','Lab_Orders'], ascending=[True, False]).reset_index()\n",
    "df = df[df['Lab'].isin(top10)]\n",
    "\n",
    "line = px.line(df, x=\"Year\", y=\"Lab_Orders\", \n",
    "               title='Top 10 Laboratory Orders by Year', \n",
    "               color='Lab')\n",
    "line.show()"
   ]
  },
  {
   "cell_type": "code",
   "execution_count": null,
   "metadata": {},
   "outputs": [],
   "source": []
  }
 ],
 "metadata": {
  "kernelspec": {
   "display_name": "Python 3",
   "language": "python",
   "name": "python3"
  },
  "language_info": {
   "codemirror_mode": {
    "name": "ipython",
    "version": 3
   },
   "file_extension": ".py",
   "mimetype": "text/x-python",
   "name": "python",
   "nbconvert_exporter": "python",
   "pygments_lexer": "ipython3",
   "version": "3.7.3"
  }
 },
 "nbformat": 4,
 "nbformat_minor": 2
}
